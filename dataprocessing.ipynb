Tariku Endale, [16/12/2022 17:58]
import pandas as pd
import numpy as np
import matplotlib.pyplot as plt
import seaborn as sns
from sklearn.preprocessing import PolynomialFeatures
from sklearn.preprocessing import StandardScaler
from sklearn.feature_selection import VarianceThreshold
from sklearn.feature_selection import SelectFromModel
from sklearn.utils import shuffle
from sklearn.ensemble import RandomForestClassifier


train = pd.read_csv('D:/Research/Accent_train.csv')
test = pd.read_csv('D:/Research/Accent_test.csv')
train.head()
import IPython 
IPython.display.Audio(r"D:/Research/dataset/aanaa.wav")

from pathlib import Path
base_path = Path(r"D:/Research/dataset")
for wav_file_path in base_path.glob("*.wav"):
    print(f"WAV File: {wav_file_path}")

train.shape

train.drop_duplicates()
train.shape
train.describe()

Tariku Endale, [16/12/2022 18:27]
To know the frame rate of which:

Tariku Endale, [16/12/2022 18:27]
import wave
obj = wave.open('D:/Research/dataset/aanaa.wav','r')
print( "Number of channels",obj.getnchannels())
print ( "Sample width",obj.getsampwidth())
print ( "Frame rate.",obj.getframerate())
print ("Number of frames",obj.getnframes())
print ( "parameters:",obj.getparams())
obj.close()

Tariku Endale, [16/12/2022 18:35]
Split Training and Test Dataset

Tariku Endale, [16/12/2022 18:35]
import pandas as pd
import numpy as np
import matplotlib.pyplot as plt
from sklearn import tree
from sklearn.model_selection import train_test_split
from sklearn.tree import DecisionTreeRegressor

Tariku Endale, [16/12/2022 19:18]
url = 'D:/Research/Accent.csv'
df = pd.read_csv(url)
# Selecting columns I am interested in
columns = ['Root Word','Audio Pronounciation','Sex','Age']
df = df.loc[:, columns]
df.head(10)

Tariku Endale, [16/12/2022 19:18]
features = ['Root Word','Audio Pronounciation','Sex']
X = df.loc[:, features]
y = df.loc[:, ['Age']]

Tariku Endale, [16/12/2022 19:19]
X_train, X_test, y_train, y_test = train_test_split(X, y, random_state=0, train_size = .75)

Tariku Endale, [16/12/2022 19:19]
from sklearn.tree import DecisionTreeRegressor

Tariku Endale, [16/12/2022 19:19]
X_test.head(1)

Tariku Endale, [16/12/2022 19:20]
max_depth_range = list(range(1, 25))
# List to store the average RMSE for each value of max_depth:
r2_list = []
for depth in max_depth_range:
    reg = DecisionTreeRegressor(max_depth = depth,
                            random_state = 0)
    reg.fit(X_train, y_train)   
    
    score = reg.score(X_test, y_test)
    r2_list.append(score)

Tariku Endale, [16/12/2022 19:20]
fig, ax = plt.subplots(nrows = 1, ncols = 1,
                       figsize = (10,7),
                       facecolor = 'white');
ax.plot(max_depth_range,
       r2_list,
       lw=2,
       color='r')
ax.set_xlim([1, max(max_depth_range)])
ax.grid(True,
       axis = 'both',
       zorder = 2,
       linestyle = ':',
       color = 'k')
ax.tick_params(labelsize = 18)
ax.set_xlabel('max_depth', fontsize = 24)
ax.set_ylabel('R^2', fontsize = 24)
ax.set_title('Afan Oromo Accent Recognition and Identification Test Set', fontsize = 24)
fig.tight_layout()

Tariku Endale, [16/12/2022 19:20]
# import packages
import numpy as np
import pandas as pd
from sklearn.model_selection import train_test_split

# importing data
df = pd.read_csv('D:/Research/Accent.csv')

# head of the data
print(df.head())


# using the train test split function
X_train, X_test,
y_train, y_test = train_test_split(X,y ,
random_state=104,
test_size=0.25,
shuffle=True)

# printing out train and test sets

print('X_train : ')
print(X_train.head())
print('')
print('X_test : ')
print(X_test.head())
print('')
print('y_train : ')
print(y_train.head())
print('')
print('y_test : ')
print(y_test.head())

Tariku Endale, [16/12/2022 19:21]
from sklearn.model_selection import train_test_split

Tariku Endale, [16/12/2022 19:21]
from sklearn.model_selection import train_test_split
X, y = np.arange(10).reshape((5, 2)), range(5)
X

Tariku Endale, [16/12/2022 19:21]
train_test_split(y, shuffle=False)

Tariku Endale, [16/12/2022 19:24]
For Testing

Tariku Endale, [16/12/2022 19:32]
port numpy
import pandas as pd
from sklearn.metrics import r2_score
numpy.random.seed(2)

x = pd.read_csv('D:/Research/Accent_train.csv')
y = pd.read_csv('D:/Research/Accent_test.csv')

train_x = x[:80]
train_y = y[:80]

test_x = x[80:]
test_y = y[80:]

mymodel = numpy.poly1d(numpy.polyfit(train_x, train_y, 4))

r2 = r2_score(test_y, mymodel(test_x))

print(r2)